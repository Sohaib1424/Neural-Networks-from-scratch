{
 "cells": [
  {
   "cell_type": "markdown",
   "metadata": {},
   "source": [
    "# Artificial Neural Networks\n",
    "Artificial neural networks (ANNs) or simulated neural networks (SNNs) are a subset of machine learning, and are at the heart of deep learning algorithms. Their name and structure are inspired by the human brain, mimicking how biological neurons signal to one another. Neural networks reflect the behavior of the human brain, allowing computer programs to recognize patterns and solve common problems in the fields of AI, machine learning, and deep learning.\n",
    "\n",
    "There are many kinds of neural networks, such as _Convolution Neural Networks(CNNs), Recurrent Neural Networks(RNNs)_ and etc. In this notebook, we'll be implementing a simple neural network from scratch just using NumPy. We'll have a brief explanation of the similarity  between _Logistic Regression_ and a simple _Neural Net_, and we'll build up our model from that."
   ]
  },
  {
   "cell_type": "markdown",
   "metadata": {},
   "source": [
    "### Learning goals\n",
    "\n",
    "- Learning the similarity between _Logistic Regression_ and a simple _Neural Network_\n",
    "- Implementing a simple _neural network_ to recognize handwritten digits"
   ]
  },
  {
   "cell_type": "markdown",
   "metadata": {},
   "source": [
    "### References\n",
    "\n",
    "- [1] [Stanford CS229 Machine Learning](https://www.youtube.com/playlist?list=PLoROMvodv4rMiGQp3WXShtMGgzqpfVfbU), [CS229 lecture notes](http://cs229.stanford.edu/syllabus.html)\n",
    "- [2] [Seyed Naser Razavi's machine learning class](https://www.youtube.com/playlist?list=PLW529xl11jnnupZKT5Og4pwHPoRFQRQz_) (Persian)\n",
    "- [3] [The Softmax Function Derivative](https://towardsdatascience.com/derivative-of-the-softmax-function-and-the-categorical-cross-entropy-loss-ffceefc081d1)"
   ]
  },
  {
   "cell_type": "code",
   "execution_count": 1,
   "metadata": {},
   "outputs": [],
   "source": [
    "import numpy as np\n",
    "import pandas as pd\n",
    "import matplotlib.pyplot as plt\n",
    "import random"
   ]
  },
  {
   "cell_type": "markdown",
   "metadata": {},
   "source": [
    "### Helpers"
   ]
  },
  {
   "cell_type": "code",
   "execution_count": 2,
   "metadata": {},
   "outputs": [],
   "source": [
    "def train_valid_test_split(X, y, val_size=.2, test_size=.2, shuffle=False):\n",
    "    if val_size < 0 or test_size < 0:\n",
    "        \n",
    "        raise EnvironmentError(\"validation or test size should not be negative!\")\n",
    "    \n",
    "    if val_size + test_size >= 1.:\n",
    "        raise EnvironmentError(\"validation + test size should be lesser than 1!\")\n",
    "    \n",
    "    x_data, y_data = X, y\n",
    "    if shuffle:\n",
    "        for _ in range(3):\n",
    "            temp = list(zip(x_data.T, y_data.T))\n",
    "            random.shuffle(temp)\n",
    "            x_data, y_data = zip(*temp)\n",
    "            x_data = np.array(list(x_data)).T\n",
    "            y_data = np.array(list(y_data)).T\n",
    "        \n",
    "    \n",
    "    val_indx = int(val_size * x_data.shape[1])\n",
    "    test_indx = int(test_size * x_data.shape[1])\n",
    "    X_val, X_test, X_train = x_data[:, :val_indx], x_data[:, val_indx:val_indx+test_indx], x_data[:, val_indx+test_indx:]\n",
    "    y_val, y_test, y_train = y_data[:, :val_indx], y_data[:, val_indx:val_indx+test_indx], y_data[:, val_indx+test_indx:]\n",
    "    \n",
    "    return X_train, X_test, X_val, y_train, y_test, y_val\n",
    "\n",
    "def accuracy(y_pred, y_true):\n",
    "    return 100. * sum(np.argmax(y_pred, axis=0) == np.argmax(y_true, axis=0)) / y_true.shape[1]"
   ]
  },
  {
   "cell_type": "markdown",
   "metadata": {},
   "source": [
    "### Activation Functions"
   ]
  },
  {
   "cell_type": "code",
   "execution_count": 3,
   "metadata": {},
   "outputs": [],
   "source": [
    "# rectified linear unit\n",
    "def ReLU(x):\n",
    "    x = np.where(x < 0, 0, x)\n",
    "    return x\n",
    "# derivative of ReLU\n",
    "def dReLU(x):\n",
    "    x = np.where(x < 0, 0, x)\n",
    "    x = np.where(x > 0, 1, x)\n",
    "    return x\n",
    "\n",
    "def tanh(x):\n",
    "    return np.tanh(x)\n",
    "\n",
    "def dtanh(x):\n",
    "    return 1. - tanh(x)**2\n",
    "\n",
    "# sigmoid function\n",
    "def sigm(x):\n",
    "    return 1. / (1. + np.exp(-x))\n",
    "\n",
    "# derivative of sigmoid function\n",
    "def dsigm(x):\n",
    "    z = sigm(x)\n",
    "    return z * (1. - z)\n",
    "def softmax(x):\n",
    "    x = x - np.max(x, axis=0, keepdims=True)\n",
    "    exp_x = np.exp(x)\n",
    "    exp_x /= np.sum(exp_x, axis=0, keepdims=True)\n",
    "    return exp_x\n",
    "def dsoftmax(y_hat, y):\n",
    "    return y_hat - y"
   ]
  },
  {
   "cell_type": "markdown",
   "metadata": {},
   "source": [
    "### Logistic Regression\n",
    "_Logistic Regression_ is one of the fundamental and popular algorithms to solve classification problems. As an example, suppose we want to classify images based on whether there is a cat in them or not. So, the presence of a cat is $y = 1$, and the absence of a cat will be $y = 0$.\n",
    "\n",
    "The first thing we need to do to classify cat images using Logistic Regression is to vectorize the images. We know that images can be represented in 3D matrices, so if we take the color cat image below of size $64\\times64\\times3$ (3 for the RGB channel) and flatten it into a vector, we'll have 12288 numbers to represent those pixels. We'll call it $x$."
   ]
  },
  {
   "cell_type": "markdown",
   "metadata": {},
   "source": [
    "<img src='imgs/cat0.png' width='85%' height='50%' style=\"float:center\">"
   ]
  },
  {
   "cell_type": "markdown",
   "metadata": {},
   "source": [
    "Now, since we have an input vector $x$, we can take it and push it in the logistic operation (as illustrated below), which has two parts. The first part (the linear part) is $Wx + b$, and the second part (the activation part) is the sigmoid function. The sigmoid function is a function that takes a number between $+\\infty$ and $-\\infty$, then maps it between 1 and 0. The operations' output is a number showing the probability of presence of a cat in the image, and it's called $\\hat{y}$.\n",
    "\n",
    "$$\\hat{y} = \\sigma(Wx + b) = \\frac{1}{1 + e^{-(Wx + b)}} \\tag{1}$$\n",
    "The larger the $\\hat{y}$ is, the higher the probability of a cat being in the input image is.\n",
    "\n",
    "Bear in mind that since the shape of vector input $x$ is (12288, 1), $W$ should be of shape (1, 12288), and $b$ will be just a single number."
   ]
  },
  {
   "cell_type": "markdown",
   "metadata": {},
   "source": [
    "<img src='imgs/cat1.jpg' width='85%' height='50%' style=\"float:center\">\n",
    "\n",
    "From now on, we'll call the __multi-class logistic regression__ model illustrated above a __neuron__."
   ]
  },
  {
   "cell_type": "markdown",
   "metadata": {},
   "source": [
    "Once we have a neuron, we need to train it (obviously after initializing the weights and the bias). To do that, we need to find the optimal weights and the optimal bias. After finding the optimal values, we'll use them to predict.\n",
    "\n",
    "Finding the optimal $W$ and $b$ means defining a loss function. That loss function would be called the __Logistic loss__, which we want to minimize it for each input we give to it:\n",
    "$$\\begin{align}\n",
    "\\mathscr{L} &= - (ylog\\hat{y} + (1 - y)log(1 - \\hat{y})) \\tag{2}\\\\\n",
    "W &= W - \\alpha \\frac{\\partial\\mathscr{L}}{\\partial W}\\\\\n",
    "b &= b - \\alpha \\frac{\\partial\\mathscr{L}}{\\partial b}\n",
    "\\end{align}$$\n",
    "\n",
    "And, if we give the neuron $m$ inputs at the same time, the _Logistic loss_ becomes:\n",
    "\n",
    "$$\\mathscr{L} = - \\frac1m \\sum_{i=1}^m(y^{(i)}log\\hat{y}^{(i)} + (1 - y^{(i)})log(1 - \\hat{y}^{(i)}))\\tag{3}$$\n",
    "\n",
    "And $X$ is:\n",
    "\n",
    "$$\n",
    "X = \n",
    "\\begin{pmatrix}\n",
    "\\big| & \\big| & \\cdots & \\big|\\\\\n",
    "x^{(1)} & x^{(2)} & \\ddots & x^{(m)}\\\\\n",
    "\\big| & \\big| & \\cdots & \\big|\n",
    "\\end{pmatrix}$$\n",
    "\n",
    "$y^{(i)}$ denotes the correct answer for $x^{(i)}$.\n",
    "\n",
    "Now, what if we want to classify other things, like a dog, a mouse, etc.? To do that, we'll add more neurons to our model."
   ]
  },
  {
   "cell_type": "markdown",
   "metadata": {},
   "source": [
    "<img src='imgs/multiClass.png' width='40%' height='40%' style=\"float:center\">"
   ]
  },
  {
   "cell_type": "markdown",
   "metadata": {},
   "source": [
    "Now, since we have a __Layer__ of neurons, the shape of $W$ becomes $(n, 12288)$ and we also have $n$ biases ($n$ is the number of neurons in the layer, or the number of classes in the model). Also, the correct label of the input image, and the operations' output $\\hat{y}$ become vectors of size $n$:\n",
    "\n",
    "$$\\begin{align}\n",
    "y = \\pmatrix{y_1=0 \\\\ y_2=0 \\\\ .\\\\ y_j=1\\\\. \\\\ .\\\\ y_k=1 \\\\ . \\\\ y_n=0}, \\hat{y} &= \\pmatrix{\\hat{y}_1 \\\\ \\hat{y}_2 \\\\ .\\\\ . \\\\ . \\\\ \\hat{y}_n} \\\\\n",
    "\\hat{y}_i = \\sigma(W_i x + b_i) &= \\frac{1}{1 + e^{-(W_i x + b_i)}} \\forall i \\in {1,...,n}\\tag{4}\n",
    "\\end{align}$$\n",
    "\n",
    "The reason for having $y_j=1$ and $y_k=1$ is that the image might include multiple classes. Like an image of a cat and a dog.\n",
    "\n",
    "And the _Logistic loss_ function will be:\n",
    "$$\\mathscr{L} = \\sum_{i=1}^n -(y_ilog\\hat{y}_i + (1-y_i)log(1-\\hat{y}_i))\\tag{5}$$"
   ]
  },
  {
   "cell_type": "markdown",
   "metadata": {},
   "source": [
    "Also, if $m$ inputs are given to our model, then $y$ and $\\hat{y}$ become matrices of shape (n, m), and the _Logistic loss_ becomes:\n",
    "$$\\mathscr{L} = \\frac1m \\sum_{i=1}^m \\mathscr{L}^{(i)} = -\\frac1m \\sum_{i=1}^m\\sum_{j=1}^n (y_j^{(i)}log\\hat{y}_j^{(i)} + (1-y_j^{(i)})log(1-\\hat{y}_j^{(i)}))\\tag{6}$$"
   ]
  },
  {
   "cell_type": "markdown",
   "metadata": {},
   "source": [
    "This model might work well in some cases. But, there are cases that we have a __constraint__ where there is only one possible outcome.\n",
    "- Think about healthcare. There are many models made to detect if a specific disease exists based on cell microscopic images. Usually, there are no overlaps among diseases, meaning we want to classify a particular disease among a large number of diseases. The model above would still work, but it will not be optimal because it takes longer to train. Maybe one disease is super rare, and therefore one of the neurons would rarely get trained. Thus we'll work with another model and put on the constraint, and we let the neurons learn by creating interactions between them.\n",
    "\n",
    "\n",
    "- Another example is classifying __HandWritten Digits__ since the given input image belongs to only one possible outcome (not two or more). We'll be focusing on this example and implement a model that can classify handwritten digits.\n",
    "\n",
    "### Loading data"
   ]
  },
  {
   "cell_type": "code",
   "execution_count": 4,
   "metadata": {},
   "outputs": [
    {
     "data": {
      "image/png": "[encoded data removed]",
      "text/plain": [
       "<Figure size 288x288 with 1 Axes>"
      ]
     },
     "metadata": {},
     "output_type": "display_data"
    }
   ],
   "source": [
    "file_path = \"C://Users//cafestock//Desktop//data analysis//ML//Neural Networks//data\"\n",
    "data_train = pd.read_csv(file_path +\"//train.csv\")\n",
    "\n",
    "x = np.array(data_train.drop(columns=[\"label\"])).T /256.\n",
    "y = np.zeros((10, 42000))\n",
    "\n",
    "for i in range(42000):\n",
    "    y[data_train.iloc[i][\"label\"], i] = 1.\n",
    "\n",
    "plt.figure(figsize=(4, 4))\n",
    "plt.imshow(x[:, random.randint(0, 41999)].reshape(28, 28), interpolation='nearest', cmap=plt.cm.Greys)\n",
    "plt.xticks([])\n",
    "plt.yticks([])\n",
    "plt.title(\"Random sample!\")\n",
    "plt.show()"
   ]
  },
  {
   "cell_type": "markdown",
   "metadata": {},
   "source": [
    "First things first, let's deal with the constraint using __softmax__.\n",
    "\n",
    "## Softmax Classifier\n",
    "\n",
    "In the multi-class logistic regression model that we defined above (using sigmoid function), we are training $n$ different classifiers. Therefore, the sum of the probabilities for different classes might not be __1__. In this new model, in which we're training $n = 10$ classifiers, after computing the linear part ($W_ix + b_i$) in each neuron, we will use __softmax__ instead of sigmoid function in the activation part. Thus, instead of having $n$ different classifiers which are acting separately, we have only one classifier which is able to distinguish among $n$ different classes, and the sum of the probabilities equals __1__."
   ]
  },
  {
   "cell_type": "markdown",
   "metadata": {},
   "source": [
    "<img src='imgs/softmax_classifier_for_digits.png' width='50%' height='50%' style=\"float:center\">"
   ]
  },
  {
   "cell_type": "markdown",
   "metadata": {},
   "source": [
    "### Softmax Function\n",
    "\n",
    "Suppose we have a vector $z$ consisting of the results computed in the linear part and related to different classes for given input $x$ ($z \\in \\mathbb{R}^{10}$). Then, $softmax(z)$ computes a vector of probabilities (one probability for each class). In fact, the $k$th element of this vector represents the probalitity of $x$ being of class $k$. This is computed as following:\n",
    "$$\\begin{align}z &= Wx + b\\\\\n",
    "s_k = \\text{softmax}(z)_k &= \\frac{e^{z_k}}{\\sum_{i=1}^{10} e^{z_i}}, \\forall k \\in 1,...,10 \\tag{7}\\\\\\\\\n",
    "\\hat{y} = s &= \\pmatrix{s_1 \\\\ s_2 \\\\ . \\\\ . \\\\ . \\\\ s_{10}}\n",
    "\\end{align}$$"
   ]
  },
  {
   "cell_type": "markdown",
   "metadata": {},
   "source": [
    "### Categorical Cross Entropy Loss Function\n",
    "\n",
    "Now, we need a new loss function to use for finding the optimal weights and the optimal bias. This loss function is called __Categorical Cross Entropy Loss Function__:\n",
    "\n",
    "$$\\mathscr{L} = -\\sum_{i=1}^{10}y_ilog(s_i)\\tag{8}$$\n",
    "In which $y$ is the correct class for given input $x$. Surprisingly, it's very similar to the _Logistic loss_. The reason for it not having the $(1 - y)log(1 - s)$ part is explained in the following.\n",
    "\n",
    "Suppose that a given input $x$ belongs to class $k$. Thus, all $y_i$s are 0, except for $y_k$ which is 1. So, $\\mathscr{L}(x) = -\\sum_{i=1}^{10}y_ilog(s_i) = -y_klog(s_k) = -log(s_k)$.\n",
    "Minimizing $\\mathscr{L}$ means maximizing $log(s_k)$, or maximizing $s_k$. Maximizing $s_k$ will result in minimizing other $s_i$s consequently, since $\\sum_{i=1}^{10} s_i = 1$ and $0 \\le s_i \\le 1$. That's the reason for not including $(1 - y)log(1 - s)$ in the equation.\n",
    "\n",
    "Just a reminder, with $m$ inputs, $y$ and $s$ become metrices of shape (n, m), or (10, m), and the loss function will be:\n",
    "\n",
    "$$\\mathscr{L} = -\\frac1m \\sum_{i=1}^{m}\\sum_{j=1}^{10}y_j^{(i)}log(s_j^{(i)})\\tag{9}$$"
   ]
  },
  {
   "cell_type": "markdown",
   "metadata": {},
   "source": [
    "### Optimization\n",
    "\n",
    "Let's cumpute $\\frac{\\partial\\mathscr{L}}{\\partial W}$ and $\\frac{\\partial\\mathscr{L}}{\\partial b}$ to find the optimal values for $W$ and $b$. Using the chain rule we get:\n",
    "$$\\begin{align} \n",
    "\\frac{\\partial\\mathscr{L}}{\\partial W} &= \\sum_{i=1}^{10} \\frac{\\partial\\mathscr{L}}{\\partial s_i} \\cdot \\frac{\\partial s_i}{\\partial z} \\cdot \\frac{\\partial z}{\\partial W} \\tag{10}\\\\\\\\\n",
    "\\frac{\\partial\\mathscr{L}}{\\partial b} &= \\sum_{i=1}^{10} \\frac{\\partial\\mathscr{L}}{\\partial s_i} \\cdot \\frac{\\partial s_i}{\\partial z} \\cdot \\frac{\\partial z}{\\partial b} \\tag{11}\n",
    "\\end{align}$$\n",
    "\n",
    "Solving for $\\frac{\\partial\\mathscr{L}}{\\partial s_i}$:\n",
    "$$\\frac{\\partial\\mathscr{L}}{\\partial s_i} = \\frac{\\partial}{\\partial s_i}(-y_ilog(s_i) + \\sum_{j \\neq i} -y_jlog(s_j)) = -\\frac{y_i}{s_i}\\tag{12}$$\n",
    "\n",
    "Solving for $\\frac{\\partial s}{\\partial z}$: when talking about the derivative of the softmax function, we actually talk about its Jacobian matrix, which is the matrix of all first-order partial derivatives:\n",
    "\n",
    "$$\n",
    "\\frac{\\partial s}{\\partial z} = J_{softmax} = \n",
    "\\pmatrix{\\frac{\\partial s_1}{z} \\\\ \\frac{\\partial s_2}{z} \\\\ \\vdots \\\\ \\frac{\\partial s_i}{z}  \\\\ \\vdots \\\\ \\frac{\\partial s_{10}}{z}} =\n",
    "\\begin{pmatrix}\\frac{\\partial s_1}{\\partial z_1} &\n",
    "\\frac{\\partial s_1}{\\partial z_2} & \\cdots & \\frac{\\partial s_1}{\\partial z_{10}} \\\\\n",
    "\\frac{\\partial s_2}{\\partial z_1} & \\frac{\\partial s_2}{\\partial z_2} & \\cdots &\n",
    "\\frac{\\partial s_2}{\\partial z_{10}}\\\\\n",
    "\\vdots & \\vdots & \\ddots & \\vdots\\\\\n",
    "\\frac{\\partial s_{10}}{\\partial z_1} & \\frac{\\partial s_{10}}{\\partial z_2} & \\cdots &\n",
    "\\frac{\\partial s_{10}}{\\partial z_{10}}\n",
    "\\end{pmatrix}\n",
    "$$"
   ]
  },
  {
   "cell_type": "markdown",
   "metadata": {},
   "source": [
    "Since the outputs of the softmax function are strictly positive values, we can make the above derivations super short, by applying the following trick: instead of taking the partial derivatives of the outputs, we take the partial derivatives of the log of the outputs (also called __logarithmic derivative__):\n",
    "\n",
    "$$\\begin{align}\n",
    "\\frac{\\partial}{\\partial z_j}log(s_i) = \\frac{1}{s_i} \\cdot \\frac{\\partial s_i}{\\partial z_j} \\\\\n",
    "\\frac{\\partial s_i}{\\partial z_j} = s_i \\cdot \\frac{\\partial}{\\partial z_j}log(s_i)\\tag{13}\n",
    "\\end{align}$$\n",
    "\n",
    "And $log(s_i)$ is:\n",
    "$$log(s_i) = log(\\frac{e^{z_i}}{\\sum_{l=1}^{10} e^{z_l}}) = z_i - log(\\sum_{l=1}^{10} e^{z_l})$$\n",
    "\n",
    "The partial derivative of the above expression is:\n",
    "$$\\frac{\\partial}{\\partial z_j}log(s_i) = \\frac{\\partial z_i}{\\partial z_j} - \\frac{\\partial}{\\partial z_j}log(\\sum_{l=1}^{10} e^{z_l})\\tag{14}$$"
   ]
  },
  {
   "cell_type": "markdown",
   "metadata": {},
   "source": [
    "Considering the first term on the right hand side:\n",
    "$$\n",
    "\\frac{\\partial z_i}{\\partial z_j} = \\bigg\\{ \\begin{array} \\text{1}, & \\text{if} \\ \\ i = j \\\\ 0, & otherwise \n",
    "\\end{array}\n",
    "$$\n",
    "\n",
    "It can be replaced with the indicator function $1\\{arg\\}$ (the indicator function returns 1 if its argument is true, and 0 otherwise). Let's rewrite Eq.14 :\n",
    "\n",
    "$$\\begin{align}\n",
    "\\frac{\\partial}{\\partial z_j}log(s_i) &= 1\\{i = j\\} - \\frac{1}{\\sum_{l=1}^{10} e^{z_l}} \\cdot \\ (\\frac{\\partial}{\\partial z_j}\\sum_{l=1}^{10} e^{z_l}) \\\\\n",
    "&= 1\\{i = j\\} - \\frac{e^{z_j}}{\\sum_{l=1}^{10} e^{z_l}}\\\\ \n",
    "&= 1\\{i = j\\} - s_j\\tag{15}\n",
    "\\end{align}$$\n",
    "\n",
    "From equations 13 and 15, we have:\n",
    "$$\\frac{\\partial s_i}{\\partial z_j} = s_i \\cdot (1\\{i = j\\} - s_j) \\tag{16}$$"
   ]
  },
  {
   "cell_type": "markdown",
   "metadata": {},
   "source": [
    "Thus, the jacobian matrix becomes:\n",
    "\n",
    "$$\n",
    "\\frac{\\partial s}{\\partial z} = J_{softmax} =\n",
    "\\begin{pmatrix}\n",
    "s_1 \\cdot (1 - s_1) & -s_1\\cdot s_2 & \\cdots & -s_1\\cdot s_{10}\\\\\n",
    "-s_2 \\cdot s_1 & s_2 \\cdot (1 - s_2) & \\cdots & -s_2\\cdot s_{10}\\\\\n",
    "\\vdots & \\vdots & \\ddots & \\vdots\\\\\n",
    "-s_{10} \\cdot s_1 & -s_{10} \\cdot s_2 & \\cdots & s_{10}\\cdot (1 - s_{10})\\\\\n",
    "\\end{pmatrix} \\tag{17}\n",
    "$$"
   ]
  },
  {
   "cell_type": "markdown",
   "metadata": {},
   "source": [
    "Now, from the results from equations 12 and 17 and using the __broadcasting technique__, we'll get:\n",
    "\n",
    "$$\n",
    "\\frac{\\partial\\mathscr{L}}{\\partial s} \\cdot \\frac{\\partial s}{\\partial z} = \n",
    "\\pmatrix{\\frac{y_1}{s_1} \\\\ \\frac{y_2}{s_2}\\\\ \\vdots \\\\ \\frac{y_{10}}{s_{10}}}\n",
    "\\pmatrix\n",
    "{\n",
    "s_1 \\cdot (s_1 - 1) & s_1\\cdot s_2 & \\cdots & s_1\\cdot s_{10}\\\\\n",
    "s_2 \\cdot s_1 & s_2 \\cdot (s_2 - 1) & \\cdots & s_2\\cdot s_{10}\\\\\n",
    "\\vdots & \\vdots & \\ddots & \\vdots\\\\\n",
    "s_{10} \\cdot s_1 & s_{10} \\cdot s_2 & \\cdots & s_{10}\\cdot (s_{10} - 1)\\\\\n",
    "} =\n",
    "\\pmatrix\n",
    "{\n",
    "0 & 0 & 0 & 0 & \\cdots & 0\\\\\n",
    "\\vdots & \\vdots & \\vdots & \\vdots & \\ddots & \\vdots\\\\\n",
    "s_1 & s_2 & \\cdots & s_k - 1 & \\cdots & s_{10}\\\\\n",
    "\\vdots & \\vdots & \\vdots & \\vdots & \\ddots & \\vdots\\\\\n",
    "0 & 0 & 0 & 0 & \\cdots & 0\\\\\n",
    "}_{10 \\times 10}\\tag{18}\n",
    "$$\n",
    "\n",
    "Thus:\n",
    "\n",
    "$$ \n",
    "\\sum_{i=1}^{10} \\frac{\\partial\\mathscr{L}_i}{\\partial s_i} \\cdot \\frac{\\partial s_i}{\\partial z} = \n",
    "\\begin{pmatrix}s_1 \\\\ s_2 \\\\ \\vdots \\\\ s_k - 1 \\\\ \\vdots \\\\ s_{10} \\end{pmatrix} =\n",
    "\\begin{pmatrix}s_1 \\\\ s_2 \\\\ \\vdots \\\\ s_k \\\\ \\vdots \\\\ s_{10} \\end{pmatrix} - \n",
    "\\begin{pmatrix}y_1=0 \\\\ y_2=0 \\\\ \\vdots \\\\ y_k = 1 \\\\ \\vdots \\\\ y_{10}=0 \\end{pmatrix}=\n",
    "s - y\n",
    "\\tag{19}\n",
    "$$\n",
    "\n",
    "Bear in mind that since the input vector $x$ belongs to class $k$, all $y_i$s are 0 except for $y_k$, which is 1. That's why there is only one nonzero row in the $10 \\times 10$ matrix above."
   ]
  },
  {
   "cell_type": "markdown",
   "metadata": {},
   "source": [
    "### Loss Function"
   ]
  },
  {
   "cell_type": "code",
   "execution_count": 5,
   "metadata": {},
   "outputs": [],
   "source": [
    "def softmax_cross_entropy_cost(y_hat, y):\n",
    "    cost = np.mean(-np.sum(y * np.log(y_hat+1e-9), axis=0))\n",
    "    return cost\n",
    "\n",
    "def dsoftmax_cross_entropy_cost(y_hat, y):\n",
    "    # equation 19: derivative of Loss with respect to z\n",
    "    return dsoftmax(y_hat, y)"
   ]
  },
  {
   "cell_type": "markdown",
   "metadata": {},
   "source": [
    "And finally we plug Eq19 back into Eq10 and Eq11 to compute $\\frac{\\partial\\mathscr{L}}{\\partial W}$ and $\\frac{\\partial\\mathscr{L}}{\\partial b}$. Two derivations remain, $\\frac{\\partial z}{\\partial W}$ and $\\frac{\\partial z}{\\partial b}$ :\n",
    "\n",
    "$$\\begin{align}\n",
    "\\frac{\\partial z}{\\partial W} &= \\frac{\\partial}{\\partial W}(Wx + b) = x^T \\\\\n",
    "\\frac{\\partial z}{\\partial b} &= \\frac{\\partial}{\\partial b}(Wx + b) = \n",
    "\\pmatrix{1 \\\\ 1 \\\\ \\vdots \\\\ 1}_{10 \\times 1}\n",
    "\\end{align}$$\n",
    "\n",
    "The reason for $\\frac{\\partial z}{\\partial W} = x^T$ is that $\\frac{\\partial z}{\\partial W}$ needs to be of shape (10, 12288), just like $W$, and the only way to achieve this is to take the dot product of vector $s - y$ with shape (10, 1) and vector $x^T$ with shape (1, 12288). \n",
    "\n",
    "$$\\begin{align}\n",
    "\\frac{\\partial\\mathscr{L}}{\\partial W} &= (s - y)x^T \\\\\\\\\n",
    "\\frac{\\partial\\mathscr{L}}{\\partial b} &= s - y\\\\\\\\\n",
    "W &= W - \\alpha \\frac{\\partial\\mathscr{L}}{\\partial W} \\\\\n",
    "b &= b - \\alpha \\frac{\\partial\\mathscr{L}}{\\partial b}\\\\\n",
    "(\\alpha \\ &\\text{is the learning rate})\n",
    "\\end{align}$$\n",
    "\n",
    "And once more, given $m$ inputs, $\\frac{\\partial\\mathscr{L}}{\\partial z} = \\frac{\\partial\\mathscr{L}}{\\partial s} \\cdot \\frac{\\partial s}{\\partial z} = y - s$ would be of shape $(10, m)$, and every coulumn of it, as you would already know, equals $s^{(i)} - y^{(i)}$ for each given $x^{(i)}$, and $\\frac{\\partial\\mathscr{L}}{\\partial W} = \\frac1m \\cdot (s - y)X^T$ (we divide by $m$ because of Eq9).\n",
    "\n",
    "Let's see what we got so far. We have a model with a layer of ten neurons, we have our data which we're going to train the model with it, and we know how to get it to work. OK! No more explanations, for now. Further down the road, we'll add more layers, and we'll find out how to optimize for that.\n",
    "\n",
    "__Now, Let's see all of this in practice.__"
   ]
  },
  {
   "cell_type": "markdown",
   "metadata": {},
   "source": [
    "### Preprocessing data"
   ]
  },
  {
   "cell_type": "code",
   "execution_count": 6,
   "metadata": {},
   "outputs": [],
   "source": [
    "X_train, X_test, X_val, y_train, y_test, y_val = train_valid_test_split(x, y, test_size=.15, val_size=.15, shuffle=True)\n",
    "# mean value of features\n",
    "mu = np.mean(X_train, axis=1, keepdims=True)\n",
    "\n",
    "# remove mean vector from all data\n",
    "X_train -= mu\n",
    "X_val -= mu\n",
    "X_test  -= mu"
   ]
  },
  {
   "cell_type": "markdown",
   "metadata": {},
   "source": [
    "Let's see how `mu` variable looks:"
   ]
  },
  {
   "cell_type": "code",
   "execution_count": 7,
   "metadata": {},
   "outputs": [
    {
     "data": {
      "image/png": "[encoded data removed]",
      "text/plain": [
       "<Figure size 288x288 with 1 Axes>"
      ]
     },
     "metadata": {},
     "output_type": "display_data"
    }
   ],
   "source": [
    "plt.figure(figsize=(4, 4))\n",
    "plt.imshow(mu.reshape(28, 28), interpolation='nearest', cmap=plt.cm.Greys)\n",
    "plt.xticks([])\n",
    "plt.yticks([])\n",
    "plt.title(\"Mean value of features\")\n",
    "plt.show()"
   ]
  },
  {
   "cell_type": "code",
   "execution_count": 8,
   "metadata": {},
   "outputs": [],
   "source": [
    "# the following class, allows us to create layers with varying neuron counts\n",
    "class Layer:\n",
    "    \n",
    "    def __init__(self, in_shape, n_neurons, Activation=\"ReLU\"):\n",
    "        if in_shape <= 0 or n_neurons <= 0:\n",
    "            raise EnvironmentError(\"Input values should be positive!\")\n",
    "        \n",
    "        self.shape = np.array([n_neurons, in_shape])\n",
    "        self.b = np.zeros((self.shape[0], 1)) # the biases\n",
    "        \n",
    "        # Initializing Wieghts and specifying activation function for the layer\n",
    "        if Activation == \"ReLU\":\n",
    "            self.Activation = ReLU\n",
    "            self.dActivation = dReLU\n",
    "            self.W = np.random.randn(*self.shape) * np.sqrt(2. / self.shape[1])\n",
    "        elif Activation == \"sigm\":\n",
    "            self.Activation = sigm\n",
    "            self.dActivation = dsigm\n",
    "            self.W = np.random.randn(*self.shape) * np.sqrt(1. / self.shape[1])\n",
    "        elif Activation == \"tanh\":\n",
    "            self.Activation = tanh\n",
    "            self.dActivation = dtanh\n",
    "            self.W = np.random.randn(*self.shape) * np.sqrt(1. / sum(self.shape))\n",
    "        elif Activation == \"Linear\":\n",
    "            self.Activation = lambda x: x\n",
    "            self.dActivation = lambda x: 1.\n",
    "            self.W = np.random.randn(*self.shape)\n",
    "        elif Activation == \"soft\":\n",
    "            self.Activation = softmax\n",
    "            self.dActivation = dsoftmax\n",
    "            self.W = np.random.randn(*self.shape) * 0.001\n",
    "        else:\n",
    "            raise EnvironmentError(\"Activation function not defined!\")\n",
    "            \n",
    "        self.x = None # the given input to the Layer        \n",
    "        self.z = None # the result from the linear part (Wx + b)\n",
    "        self.a = None # the result from the activation part (activation(z))\n",
    "        \n",
    "    def train(self, x):\n",
    "        self.x = x\n",
    "        self.z = self.W @ self.x + self.b # computing the linear part\n",
    "        self.a = self.Activation(self.z) # computing the activation part"
   ]
  },
  {
   "cell_type": "code",
   "execution_count": 9,
   "metadata": {},
   "outputs": [],
   "source": [
    "# with the help of the following class we can create a Neural Network model with multiple and different layers,\n",
    "# choose a specific lost function to train the model based on it, define desirable learning rate, set the number\n",
    "# of training iterations, and set favourable batch sizes.\n",
    "class NeuralNetwork:\n",
    "    def __init__(self, Layers, cost, num_iterations=100, alpha=.05):\n",
    "        self.num_iterations = num_iterations # iteration count\n",
    "        self.alpha = alpha # the learning rate\n",
    "            \n",
    "        if type(Layers) == list:\n",
    "            for layer in Layers:\n",
    "                if not isinstance(layer, Layer):\n",
    "                    raise EnvironmentError(\"All inputs should be of type 'Layer'\")\n",
    "        else:\n",
    "            raise EnvironmentError(\"Wrong input for Layers!\")\n",
    "        \n",
    "        for i in range(len(Layers)-1):\n",
    "            if Layers[i].shape[0] != Layers[i+1].shape[1]:\n",
    "                raise EnvironmentError(f\"The input size for Layer {i+2} should be \" + \\\n",
    "                                       f\"the same as the neurons count in Layer {i+1}!\")\n",
    "            \n",
    "        # softmax cross entropy (SCE for short) cost\n",
    "        if cost == \"SCE\":\n",
    "            self.cost = softmax_cross_entropy_cost\n",
    "            self.dcost = dsoftmax_cross_entropy_cost\n",
    "        else:\n",
    "            raise EnvironmentError(f\"There is no cost function such as {cost}\")\n",
    "                \n",
    "        self.Layers = Layers # The Layers in the neural net\n",
    "        self.X_train = None # data that the model will be trained with\n",
    "        self.y_hat, self.y_train = None, None # predictions, correct classes\n",
    "        self.J = [] # train losses\n",
    "        self.val_J = [] # validation losses\n",
    "        \n",
    "    def fit(self, X_train, y_train, X_val, y_val, batch_size=32):\n",
    "        if X_train.shape[0] != self.Layers[0].shape[1]:\n",
    "            raise EnvironmentError(f\"X_train should be of shape ({self.Layers[0].shape[0]}, N)\")\n",
    "        \n",
    "        if y_train.shape[0] != self.Layers[-1].shape[0]:\n",
    "            raise EnvironmentError(f\"y_train sholud be of shape({self.Layers[-1].shape[0]}, N)\")\n",
    "            \n",
    "        if X_val.shape[0] != self.Layers[0].shape[1]:\n",
    "            raise EnvironmentError(f\"X_val should be of shape ({self.Layers[0].shape[0]}, N)\")\n",
    "        \n",
    "        if y_val.shape[0] != self.Layers[-1].shape[0]:\n",
    "            raise EnvironmentError(f\"y_val sholud be of shape({self.Layers[-1].shape[0]}, N)\")\n",
    "            \n",
    "            \n",
    "        \n",
    "            \n",
    "        self.X_train = X_train\n",
    "        self.y_train = y_train\n",
    "        \n",
    "        m = X_train.shape[1] # number of inputs\n",
    "        num_batches = m // batch_size\n",
    "        \n",
    "        report = \"Iteration {:3d}: training loss = {:.2f} | validation loss = {:.2f}\"\n",
    "        \n",
    "        for iteration in range(self.num_iterations):\n",
    "            train_loss = 0.\n",
    "        \n",
    "            for batch in range(num_batches):\n",
    "\n",
    "                # select a random mini-batch\n",
    "                idx = np.random.choice(m, batch_size, replace=False)\n",
    "                X_batch, y_batch = self.X_train[:, idx], self.y_train[:, idx]\n",
    "                \n",
    "                self.y_hat = self.predict(X_batch)\n",
    "                train_loss += self.cost(self.y_hat, y_batch)\n",
    "                self.update(X_batch, y_batch)\n",
    "\n",
    "            # report stats after each epoch\n",
    "            train_loss /= num_batches        \n",
    "            valid_loss = self.cost(self.predict(X_val), y_val)\n",
    "            \n",
    "            self.J.append(train_loss)\n",
    "            self.val_J.append(valid_loss)\n",
    "            print(report.format(iteration+1, train_loss, valid_loss))\n",
    "        \n",
    "    # update function: optimizing to achieve optimal values for wieghts and biases          \n",
    "    def update(self, X_batch, y_batch):\n",
    "\n",
    "        size = X_batch.shape[1]\n",
    "        derivatives = []\n",
    "        # derivative of loss with respect to the result of the linear part in the networks last layer (z^n)\n",
    "        dJ = self.dcost(self.y_hat, y_batch) \n",
    "        derivatives.append(dJ / size)\n",
    "\n",
    "        for i in range(len(self.Layers) - 2, -1, -1):\n",
    "            # derivative of loss with respect to the result of the linear part in the ith layer\n",
    "            # in order to have the right shape, we take the dot product of W^T with dl/dz^(i+1)\n",
    "            # and multiply it (elementwise) with the result of this layers' activation part\n",
    "            derivative = (self.Layers[i+1].W.T @ derivatives[-1]) * self.Layers[i].dActivation(self.Layers[i].z)\n",
    "            derivatives.append(derivative)\n",
    "            \n",
    "        derivatives.reverse()\n",
    "\n",
    "        # computing for every dl/dW^i and dl/db^i\n",
    "        for i in range(len(self.Layers) - 1, 0, -1):\n",
    "            self.Layers[i].W -= self.alpha *  derivatives[i] @ self.Layers[i-1].a.T\n",
    "            self.Layers[i].b -= self.alpha * np.sum(derivatives[i], axis=1, keepdims=True)\n",
    "        self.Layers[0].W -= self.alpha * derivatives[0] @ X_batch.T\n",
    "        self.Layers[0].b -= self.alpha * np.sum(derivatives[0], axis=1, keepdims=True)\n",
    "            \n",
    "    \n",
    "    def predict(self, X):\n",
    "        for i in range(len(self.Layers)):\n",
    "            self.Layers[i].train(X)\n",
    "            X = self.Layers[i].a\n",
    "        # result of feed forward\n",
    "        return X"
   ]
  },
  {
   "cell_type": "markdown",
   "metadata": {},
   "source": [
    "### Shallow Network\n",
    "\n",
    "Let's create a model with only one Layer of 10 neurons."
   ]
  },
  {
   "cell_type": "code",
   "execution_count": 10,
   "metadata": {},
   "outputs": [],
   "source": [
    "nn = NeuralNetwork([\n",
    "\n",
    "    Layer(784, 10, Activation=\"soft\")\n",
    "                    ],\n",
    "    cost=\"SCE\",\n",
    "    num_iterations=20,\n",
    "    alpha=.005\n",
    ")"
   ]
  },
  {
   "cell_type": "code",
   "execution_count": 11,
   "metadata": {},
   "outputs": [
    {
     "name": "stdout",
     "output_type": "stream",
     "text": [
      "Iteration   1: training loss = 1.53 | validation loss = 1.11\n",
      "Iteration   2: training loss = 0.94 | validation loss = 0.82\n",
      "Iteration   3: training loss = 0.76 | validation loss = 0.70\n",
      "Iteration   4: training loss = 0.66 | validation loss = 0.63\n",
      "Iteration   5: training loss = 0.61 | validation loss = 0.58\n",
      "Iteration   6: training loss = 0.56 | validation loss = 0.55\n",
      "Iteration   7: training loss = 0.53 | validation loss = 0.52\n",
      "Iteration   8: training loss = 0.50 | validation loss = 0.50\n",
      "Iteration   9: training loss = 0.49 | validation loss = 0.48\n",
      "Iteration  10: training loss = 0.47 | validation loss = 0.47\n",
      "Iteration  11: training loss = 0.46 | validation loss = 0.46\n",
      "Iteration  12: training loss = 0.45 | validation loss = 0.45\n",
      "Iteration  13: training loss = 0.44 | validation loss = 0.44\n",
      "Iteration  14: training loss = 0.43 | validation loss = 0.43\n",
      "Iteration  15: training loss = 0.42 | validation loss = 0.43\n",
      "Iteration  16: training loss = 0.42 | validation loss = 0.42\n",
      "Iteration  17: training loss = 0.41 | validation loss = 0.42\n",
      "Iteration  18: training loss = 0.41 | validation loss = 0.41\n",
      "Iteration  19: training loss = 0.41 | validation loss = 0.41\n",
      "Iteration  20: training loss = 0.40 | validation loss = 0.40\n"
     ]
    }
   ],
   "source": [
    "nn.fit(X_train, y_train, X_val, y_val, batch_size=64)"
   ]
  },
  {
   "cell_type": "code",
   "execution_count": 12,
   "metadata": {},
   "outputs": [
    {
     "name": "stdout",
     "output_type": "stream",
     "text": [
      "Training accuracy =   89.05%\n",
      "Validation accuracy = 89.21%\n",
      "Testing accuracy = 89.29%\n"
     ]
    }
   ],
   "source": [
    "train_acc = accuracy(nn.predict(X_train), y_train)\n",
    "valid_acc = accuracy(nn.predict(X_val), y_val)\n",
    "test_acc = accuracy(nn.predict(X_test), y_test)\n",
    "\n",
    "\n",
    "print('Training accuracy =   {:.2f}%'.format(train_acc))\n",
    "print('Validation accuracy = {:.2f}%'.format(valid_acc))\n",
    "print('Testing accuracy = {:.2f}%'.format(test_acc))"
   ]
  },
  {
   "cell_type": "markdown",
   "metadata": {},
   "source": [
    "Let's see how do the weights look, based on what does the model classify? What does it see?"
   ]
  },
  {
   "cell_type": "code",
   "execution_count": 13,
   "metadata": {},
   "outputs": [
    {
     "data": {
      "image/png": "[encoded data removed]",
      "text/plain": [
       "<Figure size 1152x432 with 10 Axes>"
      ]
     },
     "metadata": {},
     "output_type": "display_data"
    }
   ],
   "source": [
    "plt.figure(figsize=(16, 6))\n",
    "\n",
    "for i in range(10):\n",
    "    plt.subplot(2, 5, i+1)\n",
    "    plt.imshow(nn.Layers[0].W[i, :].reshape((28, 28)), cmap=plt.cm.coolwarm)\n",
    "    plt.xticks([])\n",
    "    plt.yticks([])\n",
    "    plt.title(\"%d\" % i)\n",
    "plt.show()"
   ]
  },
  {
   "cell_type": "markdown",
   "metadata": {},
   "source": [
    "### Neural Networks with 2 Layers\n",
    "\n",
    "Now let's create a model with one more additional layer of 20 neurons. Let's do the optimization steps for this one. Since there are more than one layer in the model, thus there are multiple sets of weights and biases, $W^{(1)}, W^{(n)}, \\cdots, W^{(n)}$ and $b^{(1)}, b^{(2)}, \\cdots,b^{(n)}$ for each respective layer, where $n$ denotes Layers count. The optimizaiton steps are shown below:\n",
    "\n",
    "$$\\begin{align}\n",
    "\\frac{\\partial \\mathscr{L}}{\\partial W^{(n)}} = \\frac{\\partial\\mathscr{L}}{\\partial s} &\\cdot \\frac{\\partial s}{\\partial z^{(n)}} \\cdot \\frac{\\partial z^{(n)}}{\\partial W^{(n)}}\\\\\n",
    "\\frac{\\partial \\mathscr{L}}{\\partial b^{(n)}} = \\frac{\\partial\\mathscr{L}}{\\partial s} &\\cdot \\frac{\\partial s}{\\partial z^{(n)}} \\cdot \\frac{\\partial z^{(n)}}{\\partial b^{(n)}}\n",
    "\\\\\\\\\n",
    "\\frac{\\partial \\mathscr{L}}{\\partial W^{(n-1)}} = \\frac{\\partial\\mathscr{L}}{\\partial s} \\cdot \\frac{\\partial s}{\\partial z^{(n)}} &\\cdot \\frac{\\partial z^{(n)}}{\\partial a^{(n-1)}} \\cdot \\frac{\\partial a^{(n-1)}}{\\partial z^{(n-1)}} \\cdot \\frac{\\partial z^{(n-1)}}{\\partial W^{(n-1)}}\\\\\n",
    "\\frac{\\partial \\mathscr{L}}{\\partial b^{(n-1)}} = \\frac{\\partial\\mathscr{L}}{\\partial s} \\cdot \\frac{\\partial s}{\\partial z^{(n)}} &\\cdot \\frac{\\partial z^{(n)}}{\\partial a^{(n-1)}} \\cdot \\frac{\\partial a^{(n-1)}}{\\partial z^{(n-1)}} \\cdot\\frac{\\partial z^{(n)}}{\\partial b^{(n-1)}}\n",
    "\\\\\\\\\n",
    "&\\vdots\n",
    "\\\\\\\\\n",
    "\\frac{\\partial \\mathscr{L}}{\\partial W^{(1)}} = \\frac{\\partial\\mathscr{L}}{\\partial s} &\\cdot \\frac{\\partial s}{\\partial z^{(n)}} \\cdot \\cdots \\cdot \\frac{\\partial a^{(1)}}{\\partial z^{(1)}} \\cdot \\frac{\\partial z^{(1)}}{\\partial W^{(1)}}\\\\\n",
    "\\frac{\\partial \\mathscr{L}}{\\partial b^{(1)}} = \\frac{\\partial\\mathscr{L}}{\\partial s} &\\cdot \\frac{\\partial s}{\\partial z^{(n)}} \\cdot \\cdots \\cdot \\frac{\\partial a^{(1)}}{\\partial z^{(1)}} \\cdot \\frac{\\partial z^{(1)}}{\\partial b^{(1)}}\n",
    "\\end{align}$$"
   ]
  },
  {
   "cell_type": "markdown",
   "metadata": {},
   "source": [
    "Despite looking scary, if we pay a close attention, we can notice that:\n",
    "$$\n",
    "\\begin{align}\n",
    "\\frac{\\partial\\mathscr{L}}{\\partial W^{(i)}} = \\frac{\\partial\\mathscr{L}}{\\partial z^{(i+1)}} &\\cdot \\frac{\\partial z^{(i+1)}}{\\partial a^{(i)}} \\cdot \\frac{\\partial a^{(i)}}{\\partial z^{(i)}} \\cdot \\frac{\\partial z^{(i)}}{\\partial W^{(i)}}\\\\\n",
    "\\frac{\\partial\\mathscr{L}}{\\partial b^{(i)}} = \\frac{\\partial\\mathscr{L}}{\\partial z^{(i+1)}} &\\cdot \\frac{\\partial z^{(i+1)}}{\\partial a^{(i)}} \\cdot \\frac{\\partial a^{(i)}}{\\partial z^{(i)}} \\cdot \\frac{\\partial z^{(i)}}{\\partial b^{(i)}}\\\\\n",
    "\\end{align}\n",
    "$$\n",
    "\n",
    "We can store $\\frac{\\partial\\mathscr{L}}{\\partial z^{(i)}}$ and use it for the next step. This will simplify the problem and reduce the computation time. The implementation of this can be seen in the `update` function of the `NeuralNetwork` class defined above:\n",
    "\n",
    "<img src='imgs/update.png' width='100%' height='100%' style=\"float:center\">"
   ]
  },
  {
   "cell_type": "code",
   "execution_count": 14,
   "metadata": {},
   "outputs": [],
   "source": [
    "twoLayerNN = NeuralNetwork([\n",
    "    Layer(784, 20, Activation=\"ReLU\"),\n",
    "    Layer(20, 10, Activation=\"soft\")\n",
    "                    ],\n",
    "    cost=\"SCE\",\n",
    "    num_iterations=20,\n",
    "    alpha=.05\n",
    ")"
   ]
  },
  {
   "cell_type": "code",
   "execution_count": 15,
   "metadata": {},
   "outputs": [
    {
     "name": "stdout",
     "output_type": "stream",
     "text": [
      "Iteration   1: training loss = 1.30 | validation loss = 0.52\n",
      "Iteration   2: training loss = 0.40 | validation loss = 0.35\n",
      "Iteration   3: training loss = 0.31 | validation loss = 0.30\n",
      "Iteration   4: training loss = 0.28 | validation loss = 0.28\n",
      "Iteration   5: training loss = 0.25 | validation loss = 0.26\n",
      "Iteration   6: training loss = 0.24 | validation loss = 0.24\n",
      "Iteration   7: training loss = 0.22 | validation loss = 0.23\n",
      "Iteration   8: training loss = 0.21 | validation loss = 0.22\n",
      "Iteration   9: training loss = 0.20 | validation loss = 0.21\n",
      "Iteration  10: training loss = 0.19 | validation loss = 0.21\n",
      "Iteration  11: training loss = 0.18 | validation loss = 0.20\n",
      "Iteration  12: training loss = 0.18 | validation loss = 0.20\n",
      "Iteration  13: training loss = 0.16 | validation loss = 0.19\n",
      "Iteration  14: training loss = 0.15 | validation loss = 0.19\n",
      "Iteration  15: training loss = 0.15 | validation loss = 0.18\n",
      "Iteration  16: training loss = 0.15 | validation loss = 0.18\n",
      "Iteration  17: training loss = 0.14 | validation loss = 0.18\n",
      "Iteration  18: training loss = 0.14 | validation loss = 0.18\n",
      "Iteration  19: training loss = 0.14 | validation loss = 0.18\n",
      "Iteration  20: training loss = 0.13 | validation loss = 0.17\n"
     ]
    }
   ],
   "source": [
    "twoLayerNN.fit(X_train, y_train, X_val, y_val, batch_size=64)"
   ]
  },
  {
   "cell_type": "code",
   "execution_count": 16,
   "metadata": {},
   "outputs": [
    {
     "name": "stdout",
     "output_type": "stream",
     "text": [
      "Training accuracy =   96.02%\n",
      "Validation accuracy = 95.06%\n",
      "Testing accuracy = 94.68%\n"
     ]
    }
   ],
   "source": [
    "train_acc = accuracy(twoLayerNN.predict(X_train), y_train)\n",
    "valid_acc = accuracy(twoLayerNN.predict(X_val), y_val)\n",
    "test_acc = accuracy(twoLayerNN.predict(X_test), y_test)\n",
    "\n",
    "\n",
    "print('Training accuracy =   {:.2f}%'.format(train_acc))\n",
    "print('Validation accuracy = {:.2f}%'.format(valid_acc))\n",
    "print('Testing accuracy = {:.2f}%'.format(test_acc))"
   ]
  }
 ],
 "metadata": {
  "kernelspec": {
   "display_name": "Python 3",
   "language": "python",
   "name": "python3"
  },
  "language_info": {
   "codemirror_mode": {
    "name": "ipython",
    "version": 3
   },
   "file_extension": ".py",
   "mimetype": "text/x-python",
   "name": "python",
   "nbconvert_exporter": "python",
   "pygments_lexer": "ipython3",
   "version": "3.8.5"
  }
 },
 "nbformat": 4,
 "nbformat_minor": 4
}
